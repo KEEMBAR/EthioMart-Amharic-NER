{
 "cells": [
  {
   "cell_type": "markdown",
   "metadata": {},
   "source": [
    "# Task 5: Model Interpretability (SHAP & LIME)\n",
    "\n",
    "In this task, we will use model interpretability tools—SHAP (SHapley Additive exPlanations) and LIME (Local Interpretable Model-agnostic Explanations)—to explain and visualize how our NER model makes predictions. This helps build trust in the model and identify areas for improvement."
   ]
  },
  {
   "cell_type": "markdown",
   "metadata": {},
   "source": [
    "## Setup & Imports\n",
    "\n",
    "We will install and import the necessary libraries for model interpretability, including SHAP and LIME."
   ]
  },
  {
   "cell_type": "code",
   "execution_count": null,
   "metadata": {},
   "outputs": [],
   "source": [
    "pip install shap lime\n",
    "import shap\n",
    "import lime\n",
    "from lime.lime_text import LimeTextExplainer\n",
    "import torch\n",
    "from transformers import pipeline, AutoTokenizer, AutoModelForTokenClassification\n",
    "import numpy as np"
   ]
  },
  {
   "cell_type": "markdown",
   "metadata": {},
   "source": [
    "## Load Fine-Tuned NER Model\n",
    "\n",
    "We will load the best-performing fine-tuned NER model from Task 4 for interpretability analysis."
   ]
  },
  {
   "cell_type": "code",
   "execution_count": null,
   "metadata": {},
   "outputs": [],
   "source": [
    "model_path = \"./finetuned-ner-model\"  \n",
    "tokenizer = AutoTokenizer.from_pretrained(model_path)\n",
    "model = AutoModelForTokenClassification.from_pretrained(model_path)\n",
    "\n",
    "# Create a Hugging Face pipeline for NER\n",
    "ner_pipeline = pipeline(\"ner\", model=model, tokenizer=tokenizer, aggregation_strategy=\"simple\")"
   ]
  },
  {
   "cell_type": "markdown",
   "metadata": {},
   "source": [
    "## SHAP Explanation\n",
    "\n",
    "We will use SHAP to explain the model's predictions for a sample Amharic sentence. SHAP values show the contribution of each token to the model's entity prediction."
   ]
  },
  {
   "cell_type": "code",
   "execution_count": null,
   "metadata": {},
   "outputs": [],
   "source": [
    "sample_text = \"አዲስ ጫማ ዋጋ 2000 ብር በ Addis Ababa\"\n",
    "\n",
    "# Tokenize and get model outputs\n",
    "inputs = tokenizer(sample_text, return_tensors=\"pt\")\n",
    "outputs = model(**inputs).logits.detach().numpy()\n",
    "\n",
    "# SHAP requires a function that takes a list of texts and returns model outputs\n",
    "def f(texts):\n",
    "    inputs = tokenizer(texts, padding=True, truncation=True, return_tensors=\"pt\")\n",
    "    with torch.no_grad():\n",
    "        logits = model(**inputs).logits\n",
    "    return logits.detach().numpy()\n",
    "\n",
    "explainer = shap.Explainer(f, tokenizer)\n",
    "shap_values = explainer([sample_text])\n",
    "\n",
    "# Visualize SHAP values\n",
    "shap.plots.text(shap_values[0])"
   ]
  },
  {
   "cell_type": "markdown",
   "metadata": {},
   "source": [
    "## LIME Explanation\n",
    "\n",
    "We will use LIME to explain the model's predictions for a sample Amharic sentence. LIME perturbs the input and shows which words are most influential for the predicted entities."
   ]
  },
  {
   "cell_type": "code",
   "execution_count": null,
   "metadata": {},
   "outputs": [],
   "source": [
    "class NERPredictor:\n",
    "    def __init__(self, pipeline):\n",
    "        self.pipeline = pipeline\n",
    "        self.labels = list(set([ent['entity_group'] for ent in self.pipeline(\"test\") if 'entity_group' in ent]))\n",
    "\n",
    "    def predict(self, texts):\n",
    "        # Returns a list of lists of probabilities for each label\n",
    "        results = []\n",
    "        for text in texts:\n",
    "            ents = self.pipeline(text)\n",
    "            # For each label, 1 if present in prediction, else 0\n",
    "            pred_labels = [ent['entity_group'] for ent in ents]\n",
    "            results.append([1 if label in pred_labels else 0 for label in self.labels])\n",
    "        return np.array(results)\n",
    "\n",
    "ner_predictor = NERPredictor(ner_pipeline)\n",
    "explainer = LimeTextExplainer(class_names=ner_predictor.labels)\n",
    "\n",
    "exp = explainer.explain_instance(\n",
    "    sample_text,\n",
    "    ner_predictor.predict,\n",
    "    num_features=10,\n",
    "    labels=[0]  # Index of the label to explain\n",
    ")\n",
    "exp.show_in_notebook(text=True)"
   ]
  },
  {
   "cell_type": "markdown",
   "metadata": {},
   "source": [
    "## Discussion\n",
    "\n",
    "By using SHAP and LIME, we gain insights into which tokens most influence the NER model's predictions. This helps us understand model behavior, identify potential biases, and improve model trustworthiness for EthioMart's business use case."
   ]
  }
 ],
 "metadata": {
  "language_info": {
   "name": "python"
  }
 },
 "nbformat": 4,
 "nbformat_minor": 2
}
